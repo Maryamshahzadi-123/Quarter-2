{
  "nbformat": 4,
  "nbformat_minor": 0,
  "metadata": {
    "colab": {
      "provenance": [],
      "authorship_tag": "ABX9TyOtuuKwx2r0tAtS7w3zi1m5",
      "include_colab_link": true
    },
    "kernelspec": {
      "name": "python3",
      "display_name": "Python 3"
    },
    "language_info": {
      "name": "python"
    }
  },
  "cells": [
    {
      "cell_type": "markdown",
      "metadata": {
        "id": "view-in-github",
        "colab_type": "text"
      },
      "source": [
        "<a href=\"https://colab.research.google.com/github/Maryamshahzadi-123/Quarter-2/blob/main/Assignment_02.ipynb\" target=\"_parent\"><img src=\"https://colab.research.google.com/assets/colab-badge.svg\" alt=\"Open In Colab\"/></a>"
      ]
    },
    {
      "cell_type": "markdown",
      "source": [],
      "metadata": {
        "id": "_6U5RSA9BUwt"
      }
    },
    {
      "cell_type": "code",
      "execution_count": null,
      "metadata": {
        "id": "yMRnCCVhBJ2M"
      },
      "outputs": [],
      "source": []
    },
    {
      "cell_type": "markdown",
      "source": [
        "API: An Application Programming Interface (API) is a set of rules that allows one application to interact with another, enabling functionality or data exchange.\n",
        "\n",
        "SDK: A Software Development Kit (SDK) is a collection of tools, libraries, and documentation for building applications on a specific platform.\n",
        "\n",
        "Web APIs: Web APIs are interfaces that enable communication between applications over the internet, often using HTTP requests to access web-based services.\n",
        "\n",
        "Library APIs: Library APIs provide pre-built functions or classes within a library, simplifying development by offering reusable code modules for specific tasks.\n",
        "\n",
        "Prompting and Completion: Prompting refers to providing input or context to an AI model, while completion is the model's generated response based on the given prompt."
      ],
      "metadata": {
        "id": "mN8P5a80BMZJ"
      }
    }
  ]
}