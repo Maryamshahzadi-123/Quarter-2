{
  "nbformat": 4,
  "nbformat_minor": 0,
  "metadata": {
    "colab": {
      "provenance": [],
      "authorship_tag": "ABX9TyPrAYSBzo5XtDdchP4lSqXG",
      "include_colab_link": true
    },
    "kernelspec": {
      "name": "python3",
      "display_name": "Python 3"
    },
    "language_info": {
      "name": "python"
    }
  },
  "cells": [
    {
      "cell_type": "markdown",
      "metadata": {
        "id": "view-in-github",
        "colab_type": "text"
      },
      "source": [
        "<a href=\"https://colab.research.google.com/github/Maryamshahzadi-123/Quarter-2/blob/main/%20evil-calculator.ipynb\" target=\"_parent\"><img src=\"https://colab.research.google.com/assets/colab-badge.svg\" alt=\"Open In Colab\"/></a>"
      ]
    },
    {
      "cell_type": "code",
      "execution_count": 2,
      "metadata": {
        "id": "s0Ko1KMoSMxa"
      },
      "outputs": [],
      "source": [
        "import random\n",
        "import time\n",
        "\n",
        "# Logging list\n",
        "interaction_log = []\n",
        "\n",
        "# Evil Calculator Agent\n",
        "def evil_calculator(expression):\n",
        "    mode = random.choice([\"LLM\", \"Tool\"])\n",
        "\n",
        "    if mode == \"LLM\":\n",
        "        response = llm_response(expression)\n",
        "    else:\n",
        "        response = correct_tool_response(expression)\n",
        "\n",
        "    # Log the interaction\n",
        "    interaction_log.append({\n",
        "        \"timestamp\": time.strftime(\"%Y-%m-%d %H:%M:%S\"),\n",
        "        \"expression\": expression,\n",
        "        \"mode\": mode,\n",
        "        \"response\": response\n",
        "    })\n",
        "\n",
        "    return response\n",
        "\n",
        "def llm_response(expression):\n",
        "    # Create a believable but wrong answer\n",
        "    try:\n",
        "        correct = eval(expression)\n",
        "        fake = correct + random.choice([-3, -2, -1, 1, 2, 3])\n",
        "        return f\"The result of {expression} is {fake}.\"\n",
        "    except:\n",
        "        return \"Sorry, I couldn't process that.\"\n",
        "\n",
        "def correct_tool_response(expression):\n",
        "    try:\n",
        "        correct = eval(expression)\n",
        "        return f\"The result of {expression} is {correct}.\"\n",
        "    except:\n",
        "        return \"Invalid expression.\"\n"
      ]
    },
    {
      "cell_type": "code",
      "source": [
        "print(evil_calculator(\"6 + 5\"))\n",
        "print(evil_calculator(\"12 * 4\"))\n",
        "print(evil_calculator(\"100 / 20\"))"
      ],
      "metadata": {
        "colab": {
          "base_uri": "https://localhost:8080/"
        },
        "id": "s6txU9SWSeh6",
        "outputId": "b4895714-4a1b-4265-d3ff-3dc03fdb9dd1"
      },
      "execution_count": 4,
      "outputs": [
        {
          "output_type": "stream",
          "name": "stdout",
          "text": [
            "The result of 6 + 5 is 13.\n",
            "The result of 12 * 4 is 51.\n",
            "The result of 100 / 20 is 5.0.\n"
          ]
        }
      ]
    }
  ]
}